{
 "cells": [
  {
   "cell_type": "markdown",
   "metadata": {
    "pycharm": {
     "name": "#%% md\n"
    }
   },
   "source": [
    "# 基于深度学习算法的信用卡风险客户分析"
   ]
  },
  {
   "cell_type": "markdown",
   "metadata": {
    "pycharm": {
     "name": "#%% md\n"
    }
   },
   "source": [
    "## 1. 初始化"
   ]
  },
  {
   "cell_type": "code",
   "execution_count": 1,
   "metadata": {
    "pycharm": {
     "name": "#%%\n"
    }
   },
   "outputs": [],
   "source": [
    "import itertools\n",
    "\n",
    "import matplotlib.pyplot as plt\n",
    "import numpy as np\n",
    "import pandas as pd\n",
    "\n",
    "from imblearn.over_sampling import SMOTE\n",
    "from sklearn.model_selection import train_test_split\n",
    "from sklearn.metrics import accuracy_score, confusion_matrix"
   ]
  },
  {
   "cell_type": "markdown",
   "source": [
    "## 2. 工具函数"
   ],
   "metadata": {
    "collapsed": false,
    "pycharm": {
     "name": "#%% md\n"
    }
   }
  },
  {
   "cell_type": "markdown",
   "source": [
    "### (1) IV 计算 `calc_iv(df, feature, target, pr=False)`"
   ],
   "metadata": {
    "collapsed": false,
    "pycharm": {
     "name": "#%% md\n"
    }
   }
  },
  {
   "cell_type": "code",
   "execution_count": null,
   "outputs": [],
   "source": [
    "def calc_iv(df, feature, target, pr=False):\n",
    "    lst = []\n",
    "    df[feature] = df[feature].fillna(\"NULL\")\n",
    "\n",
    "    for i in range(df[feature].nunique()):\n",
    "        val = list(df[feature].unique())[i]\n",
    "        lst.append([feature,\n",
    "                    val,\n",
    "                    df[df[feature] == val].count()[feature],\n",
    "                    df[(df[feature] == val) & (df[target] == 0)].count()[feature],\n",
    "                    df[(df[feature] == val) & (df[target] == 1)].count()[feature]])\n",
    "\n",
    "    iv_calc_data = pd.DataFrame(lst, columns=['Variable', 'Value', 'All', 'Good', 'Bad'])\n",
    "    iv_calc_data['Share'] = iv_calc_data['All'] / iv_calc_data['All'].sum()\n",
    "    iv_calc_data['Bad Rate'] = iv_calc_data['Bad'] / iv_calc_data['All']\n",
    "    iv_calc_data['Distribution Good'] = (iv_calc_data['All'] - iv_calc_data['Bad']) / (\n",
    "            iv_calc_data['All'].sum() - iv_calc_data['Bad'].sum())\n",
    "    iv_calc_data['Distribution Bad'] = iv_calc_data['Bad'] / iv_calc_data['Bad'].sum()\n",
    "    iv_calc_data['WoE'] = np.log(iv_calc_data['Distribution Good'] / iv_calc_data['Distribution Bad'])\n",
    "\n",
    "    iv_calc_data = iv_calc_data.replace({'WoE': {np.inf: 0, -np.inf: 0}})\n",
    "\n",
    "    iv_calc_data['IV'] = iv_calc_data['WoE'] * (iv_calc_data['Distribution Good'] - iv_calc_data['Distribution Bad'])\n",
    "\n",
    "    iv_calc_data = iv_calc_data.sort_values(by=['Variable', 'Value'], ascending=[True, True])\n",
    "    iv_calc_data.index = range(len(iv_calc_data.index))\n",
    "\n",
    "    if pr:\n",
    "        print(iv_calc_data)\n",
    "        print('IV = ', iv_calc_data['IV'].sum())\n",
    "\n",
    "    ivv = iv_calc_data['IV'].sum()\n",
    "    print('IV =', ivv)\n",
    "    print(df[feature].value_counts())\n",
    "    return ivv, iv_calc_data"
   ],
   "metadata": {
    "collapsed": false,
    "pycharm": {
     "name": "#%%\n"
    }
   }
  },
  {
   "cell_type": "markdown",
   "source": [
    "### (2) 转换零时数据 `convert_dummy(df, feature, rank=0)`"
   ],
   "metadata": {
    "collapsed": false,
    "pycharm": {
     "name": "#%% md\n"
    }
   }
  },
  {
   "cell_type": "code",
   "execution_count": null,
   "outputs": [],
   "source": [
    "def convert_dummy(df, feature, rank=0):\n",
    "    pos = pd.get_dummies(df[feature], prefix=feature)\n",
    "    mode = df[feature].value_counts().index[rank]\n",
    "    biggest = feature + '_' + str(mode)\n",
    "    pos.drop([biggest], axis=1, inplace=True)\n",
    "    df.drop([feature], axis=1, inplace=True)\n",
    "    df = df.join(pos)\n",
    "    return df"
   ],
   "metadata": {
    "collapsed": false,
    "pycharm": {
     "name": "#%%\n"
    }
   }
  },
  {
   "cell_type": "markdown",
   "source": [
    "### (3) 非二值数据分类 `get_category(df, col, bins_num, labels, q_cut = False)`"
   ],
   "metadata": {
    "collapsed": false,
    "pycharm": {
     "name": "#%% md\n"
    }
   }
  },
  {
   "cell_type": "code",
   "execution_count": null,
   "outputs": [],
   "source": [
    "def get_category(df, col, bins_num, labels, q_cut=False):\n",
    "    if q_cut:\n",
    "        ldf = pd.qcut(df[col], q=bins_num, labels=labels)\n",
    "    else:\n",
    "        ldf = pd.cut(df[col], bins=bins_num, labels=labels)\n",
    "\n",
    "    ldf = pd.DataFrame(ldf)\n",
    "    name = 'cat' + '_' + col\n",
    "    ldf[name] = ldf[col]\n",
    "    df = df.join(ldf[name])\n",
    "    df[name] = df[name].astype(object)\n",
    "    return df"
   ],
   "metadata": {
    "collapsed": false,
    "pycharm": {
     "name": "#%%\n"
    }
   }
  },
  {
   "cell_type": "markdown",
   "source": [
    "### (4) 绘制混淆矩阵 `plot_confusion_matrix(cm, classes, m_type, normalize=True, c_map=plt.cm.Blues)`"
   ],
   "metadata": {
    "collapsed": false,
    "pycharm": {
     "name": "#%% md\n"
    }
   }
  },
  {
   "cell_type": "code",
   "execution_count": null,
   "outputs": [],
   "source": [
    "def plot_confusion_matrix(cm, classes, m_type, normalize=True, c_map=plt.cm.Blues):\n",
    "    if normalize:\n",
    "        cm = cm.astype('float') / cm.sum(axis=1)[:, np.newaxis]\n",
    "\n",
    "    print(cm)\n",
    "\n",
    "    plt.imshow(cm, interpolation='nearest', cmap=c_map)\n",
    "    plt.title(f'Confusion matrix - {m_type}')\n",
    "    plt.colorbar()\n",
    "    tick_marks = np.arange(len(classes))\n",
    "    plt.xticks(tick_marks, classes)\n",
    "    plt.yticks(tick_marks, classes)\n",
    "\n",
    "    fmt = '.2f' if normalize else 'd'\n",
    "    thresh = cm.max() / 2.\n",
    "    for i, j in itertools.product(range(cm.shape[0]), range(cm.shape[1])):\n",
    "        plt.text(j, i, format(cm[i, j], fmt),\n",
    "                 horizontalalignment=\"center\",\n",
    "                 color=\"white\" if cm[i, j] > thresh else \"black\")\n",
    "\n",
    "    plt.tight_layout()\n",
    "    plt.ylabel('True label')\n",
    "    plt.xlabel('Predicted label')\n",
    "\n",
    "    plt.savefig(f'./confusion_matrix_{str.lower(m_type)}.png', dpi=72)"
   ],
   "metadata": {
    "collapsed": false,
    "pycharm": {
     "name": "#%%\n"
    }
   }
  },
  {
   "cell_type": "markdown",
   "source": [
    "### (5) 绘制训练图 `plot_train_history(his)`"
   ],
   "metadata": {
    "collapsed": false,
    "pycharm": {
     "name": "#%% md\n"
    }
   }
  },
  {
   "cell_type": "code",
   "execution_count": null,
   "outputs": [],
   "source": [
    "def plot_train_history(his, m_type):\n",
    "    plt.plot(his.history['accuracy'])\n",
    "    plt.plot(his.history['val_accuracy'])\n",
    "    plt.title(f'Model Accuracy - {m_type}')\n",
    "    plt.ylabel('accuracy')\n",
    "    plt.xlabel('epoch')\n",
    "    plt.legend(['train', 'test'], loc='upper left')\n",
    "    plt.show()\n",
    "\n",
    "    plt.savefig(f'./model_accuracy_{str.lower(m_type)}', dpi=72)\n",
    "\n",
    "    plt.plot(his.history['loss'])\n",
    "    plt.plot(his.history['val_loss'])\n",
    "    plt.title(f'Model Loss - {m_type}')\n",
    "    plt.ylabel('loss')\n",
    "    plt.xlabel('epoch')\n",
    "    plt.legend(['train', 'test'], loc='upper left')\n",
    "    plt.show()\n",
    "\n",
    "    plt.savefig(f'./model_loss_{str.lower(m_type)}', dpi=72)"
   ],
   "metadata": {
    "collapsed": false,
    "pycharm": {
     "name": "#%%\n"
    }
   }
  },
  {
   "cell_type": "markdown",
   "source": [
    "## 3. 整理原始数据集"
   ],
   "metadata": {
    "collapsed": false,
    "pycharm": {
     "name": "#%% md\n"
    }
   }
  },
  {
   "cell_type": "markdown",
   "source": [
    "### (1) 数据导入"
   ],
   "metadata": {
    "collapsed": false,
    "pycharm": {
     "name": "#%% md\n"
    }
   }
  },
  {
   "cell_type": "code",
   "execution_count": null,
   "outputs": [],
   "source": [
    "# 导入数据集\n",
    "\n",
    "data = pd.read_csv('./data/application_record.csv', encoding='utf-8')\n",
    "record = pd.read_csv('./data/credit_record.csv', encoding='utf-8')"
   ],
   "metadata": {
    "collapsed": false,
    "pycharm": {
     "name": "#%%\n"
    }
   }
  },
  {
   "cell_type": "markdown",
   "source": [
    "### (2) 获得 Y 数据标定"
   ],
   "metadata": {
    "collapsed": false,
    "pycharm": {
     "name": "#%% md\n"
    }
   }
  },
  {
   "cell_type": "code",
   "execution_count": null,
   "outputs": [],
   "source": [
    "# 计算客户开户月份，并合并到主数据集\n",
    "\n",
    "open_month = pd.DataFrame(record.groupby(['ID'])['MONTHS_BALANCE'].agg(min))\n",
    "open_month = open_month.rename(columns={'MONTHS_BALANCE': 'open_month'})\n",
    "calc_data = pd.merge(data, open_month, how='left', on='ID')"
   ],
   "metadata": {
    "collapsed": false,
    "pycharm": {
     "name": "#%%\n"
    }
   }
  },
  {
   "cell_type": "code",
   "execution_count": null,
   "outputs": [],
   "source": [
    "# 设定逾期超过 60 日的为风险客户\n",
    "\n",
    "# 标记 STATUS 为 2、3、4、5 的为风险客户\n",
    "record['is_risky'] = None\n",
    "record.loc[record['STATUS'] == '2', 'is_risky'] = 'Y'\n",
    "record.loc[record['STATUS'] == '3', 'is_risky'] = 'Y'\n",
    "record.loc[record['STATUS'] == '4', 'is_risky'] = 'Y'\n",
    "record.loc[record['STATUS'] == '5', 'is_risky'] = 'Y'\n",
    "\n",
    "# 按照 ID 进行数据合并\n",
    "g = record.groupby('ID').count()\n",
    "\n",
    "# 标记风险客户\n",
    "g['is_risky'][g['is_risky'] > 0] = 'Y'\n",
    "g['is_risky'][g['is_risky'] == 0] = 'N'\n",
    "g = g[['is_risky']]\n",
    "\n",
    "calc_data = pd.merge(calc_data, g, how='inner', on='ID')\n",
    "calc_data['risk'] = calc_data['is_risky']\n",
    "calc_data.loc[calc_data['risk'] == 'Y', 'risk'] = 1\n",
    "calc_data.loc[calc_data['risk'] == 'N', 'risk'] = 0"
   ],
   "metadata": {
    "collapsed": false,
    "pycharm": {
     "name": "#%%\n"
    }
   }
  },
  {
   "cell_type": "code",
   "execution_count": null,
   "outputs": [],
   "source": [
    "# 查看风险客户数量\n",
    "\n",
    "print(g['is_risky'].value_counts(sort=False))\n",
    "g['is_risky'].value_counts(normalize=True, sort=False)"
   ],
   "metadata": {
    "collapsed": false,
    "pycharm": {
     "name": "#%%\n"
    }
   }
  },
  {
   "cell_type": "markdown",
   "source": [
    "### (3) 整理列名称和去除空数据"
   ],
   "metadata": {
    "collapsed": false,
    "pycharm": {
     "name": "#%% md\n"
    }
   }
  },
  {
   "cell_type": "code",
   "execution_count": null,
   "outputs": [],
   "source": [
    "# 为了方便处理数据，重命名原本的数据列\n",
    "\n",
    "calc_data.rename(columns={\n",
    "    'CODE_GENDER': 'gender',\n",
    "    'FLAG_OWN_CAR': 'car',\n",
    "    'FLAG_OWN_REALTY': 'realty',\n",
    "    'CNT_CHILDREN': 'children',\n",
    "    'AMT_INCOME_TOTAL': 'income',\n",
    "    'NAME_INCOME_TYPE': 'income_type',\n",
    "    'NAME_EDUCATION_TYPE': 'edu',\n",
    "    'NAME_FAMILY_STATUS': 'family',\n",
    "    'NAME_HOUSING_TYPE': 'housing',\n",
    "    'FLAG_MOBIL': 'mobile',\n",
    "    'FLAG_WORK_PHONE': 'wk_phone',\n",
    "    'FLAG_PHONE': 'phone',\n",
    "    'FLAG_EMAIL': 'email',\n",
    "    'OCCUPATION_TYPE': 'occupation',\n",
    "    'CNT_FAM_MEMBERS': 'family_size'\n",
    "}, inplace=True)"
   ],
   "metadata": {
    "collapsed": false,
    "pycharm": {
     "name": "#%%\n"
    }
   }
  },
  {
   "cell_type": "code",
   "execution_count": null,
   "outputs": [],
   "source": [
    "# 移除 NULL 数据\n",
    "\n",
    "calc_data.dropna()\n",
    "calc_data = calc_data.mask(calc_data == 'NULL').dropna()"
   ],
   "metadata": {
    "collapsed": false,
    "pycharm": {
     "name": "#%%\n"
    }
   }
  },
  {
   "cell_type": "code",
   "execution_count": null,
   "outputs": [],
   "source": [
    "iv_data = pd.DataFrame(calc_data.columns, columns=['vars'])\n",
    "iv_data['iv'] = None\n",
    "namelist = ['FLAG_MOBIL', 'open_month', 'is_risky', 'risk', 'ID']\n",
    "\n",
    "for n in namelist:\n",
    "    iv_data.drop(iv_data[iv_data['vars'] == 1].index, inplace=True)"
   ],
   "metadata": {
    "collapsed": false,
    "pycharm": {
     "name": "#%%\n"
    }
   }
  },
  {
   "cell_type": "markdown",
   "source": [
    "## 4. 二值数据处理"
   ],
   "metadata": {
    "collapsed": false,
    "pycharm": {
     "name": "#%% md\n"
    }
   }
  },
  {
   "cell_type": "markdown",
   "source": [
    "### (1) 性别"
   ],
   "metadata": {
    "collapsed": false,
    "pycharm": {
     "name": "#%% md\n"
    }
   }
  },
  {
   "cell_type": "code",
   "execution_count": null,
   "outputs": [],
   "source": [
    "# 性别\n",
    "\n",
    "param = 'gender'\n",
    "\n",
    "calc_data[param] = calc_data[param].replace(['F', 'M'], [0, 1])\n",
    "iv, ivd = calc_iv(calc_data, param, 'risk')\n",
    "iv_data.loc[iv_data['vars'] == param, 'iv'] = iv\n",
    "ivd.head()"
   ],
   "metadata": {
    "collapsed": false,
    "pycharm": {
     "name": "#%%\n"
    }
   }
  },
  {
   "cell_type": "markdown",
   "source": [
    "### (2) 是否拥有汽车"
   ],
   "metadata": {
    "collapsed": false,
    "pycharm": {
     "name": "#%% md\n"
    }
   }
  },
  {
   "cell_type": "code",
   "execution_count": null,
   "outputs": [],
   "source": [
    "# 是否拥有汽车\n",
    "\n",
    "param = 'car'\n",
    "\n",
    "calc_data[param] = calc_data[param].replace(['N', 'Y'], [0, 1])\n",
    "iv, ivd = calc_iv(calc_data, param, 'risk')\n",
    "iv_data.loc[iv_data['vars'] == param, 'iv'] = iv\n",
    "ivd.head()"
   ],
   "metadata": {
    "collapsed": false,
    "pycharm": {
     "name": "#%%\n"
    }
   }
  },
  {
   "cell_type": "markdown",
   "source": [
    "### (3) 是否拥有不动产"
   ],
   "metadata": {
    "collapsed": false,
    "pycharm": {
     "name": "#%% md\n"
    }
   }
  },
  {
   "cell_type": "code",
   "execution_count": null,
   "outputs": [],
   "source": [
    "# 是否拥有不动产\n",
    "\n",
    "param = 'realty'\n",
    "\n",
    "calc_data[param] = calc_data[param].replace(['N', 'Y'], [0, 1])\n",
    "iv, ivd = calc_iv(calc_data, param, 'risk')\n",
    "iv_data.loc[iv_data['vars'] == param, 'iv'] = iv\n",
    "ivd.head()"
   ],
   "metadata": {
    "collapsed": false,
    "pycharm": {
     "name": "#%%\n"
    }
   }
  },
  {
   "cell_type": "markdown",
   "source": [
    "### (4) 是否拥有电话"
   ],
   "metadata": {
    "collapsed": false,
    "pycharm": {
     "name": "#%% md\n"
    }
   }
  },
  {
   "cell_type": "code",
   "execution_count": null,
   "outputs": [],
   "source": [
    "# 是否拥有电话\n",
    "\n",
    "param = 'phone'\n",
    "\n",
    "calc_data[param] = calc_data[param].astype(str)\n",
    "calc_data.drop(calc_data[calc_data[param] == 'nan'].index, inplace=True)\n",
    "iv, ivd = calc_iv(calc_data, param, 'risk')\n",
    "iv_data.loc[iv_data['vars'] == param, 'iv'] = iv\n",
    "ivd.head()"
   ],
   "metadata": {
    "collapsed": false,
    "pycharm": {
     "name": "#%%\n"
    }
   }
  },
  {
   "cell_type": "markdown",
   "source": [
    "### (5) 是否拥有工作电话"
   ],
   "metadata": {
    "collapsed": false,
    "pycharm": {
     "name": "#%% md\n"
    }
   }
  },
  {
   "cell_type": "code",
   "execution_count": null,
   "outputs": [],
   "source": [
    "# 是否拥有工作电话\n",
    "\n",
    "param = 'wk_phone'\n",
    "\n",
    "calc_data[param] = calc_data[param].astype(str)\n",
    "calc_data.drop(calc_data[calc_data[param] == 'nan'].index, inplace=True)\n",
    "iv, ivd = calc_iv(calc_data, param, 'risk')\n",
    "iv_data.loc[iv_data['vars'] == param, 'iv'] = iv\n",
    "ivd.head()"
   ],
   "metadata": {
    "collapsed": false,
    "pycharm": {
     "name": "#%%\n"
    }
   }
  },
  {
   "cell_type": "markdown",
   "source": [
    "### (6) 是否拥有电子邮箱"
   ],
   "metadata": {
    "collapsed": false,
    "pycharm": {
     "name": "#%% md\n"
    }
   }
  },
  {
   "cell_type": "code",
   "execution_count": null,
   "outputs": [],
   "source": [
    "# 是否拥有电子邮箱\n",
    "\n",
    "param = 'email'\n",
    "\n",
    "calc_data[param] = calc_data[param].astype(str)\n",
    "calc_data.drop(calc_data[calc_data[param] == 'nan'].index, inplace=True)\n",
    "iv, ivd = calc_iv(calc_data, param, 'risk')\n",
    "iv_data.loc[iv_data['vars'] == param, 'iv'] = iv\n",
    "ivd.head()"
   ],
   "metadata": {
    "collapsed": false,
    "pycharm": {
     "name": "#%%\n"
    }
   }
  },
  {
   "cell_type": "markdown",
   "source": [
    "## 5. 连续数值数据处理"
   ],
   "metadata": {
    "collapsed": false,
    "pycharm": {
     "name": "#%% md\n"
    }
   }
  },
  {
   "cell_type": "markdown",
   "source": [
    "### (1) 拥有孩子数量"
   ],
   "metadata": {
    "collapsed": false,
    "pycharm": {
     "name": "#%% md\n"
    }
   }
  },
  {
   "cell_type": "code",
   "execution_count": null,
   "outputs": [],
   "source": [
    "calc_data.loc[calc_data['children'] >= 2, 'children'] = '2+'\n",
    "iv, ivd = calc_iv(calc_data, 'children', 'risk')\n",
    "iv_data.loc[iv_data['vars'] == 'children', 'iv'] = iv\n",
    "calc_data = convert_dummy(calc_data, 'children')\n",
    "ivd.head()"
   ],
   "metadata": {
    "collapsed": false,
    "pycharm": {
     "name": "#%%\n"
    }
   }
  },
  {
   "cell_type": "markdown",
   "source": [
    "### (2) 年收入"
   ],
   "metadata": {
    "collapsed": false,
    "pycharm": {
     "name": "#%% md\n"
    }
   }
  },
  {
   "cell_type": "code",
   "execution_count": null,
   "outputs": [],
   "source": [
    "ann_income = calc_data['income'].astype(object)\n",
    "ann_income = ann_income / 10000\n",
    "print(ann_income.value_counts(bins=10, sort=False))\n",
    "ann_income.plot(kind='hist', bins=50, density=True)\n",
    "\n",
    "print('')\n",
    "\n",
    "calc_data = get_category(calc_data, 'income', 3, ['low', 'medium', 'high'], q_cut=True)\n",
    "iv, ivd = calc_iv(calc_data, 'cat_income', 'risk')\n",
    "iv_data.loc[iv_data['vars'] == 'income', 'iv'] = iv\n",
    "calc_data = convert_dummy(calc_data, 'cat_income')\n",
    "ivd.head()"
   ],
   "metadata": {
    "collapsed": false,
    "pycharm": {
     "name": "#%%\n"
    }
   }
  },
  {
   "cell_type": "markdown",
   "source": [
    "### (3) 年龄"
   ],
   "metadata": {
    "collapsed": false,
    "pycharm": {
     "name": "#%% md\n"
    }
   }
  },
  {
   "cell_type": "code",
   "execution_count": null,
   "outputs": [],
   "source": [
    "calc_data['age'] = - (calc_data['DAYS_BIRTH']) // 365\n",
    "print(calc_data['age'].value_counts(bins=10, normalize=True, sort=False))\n",
    "calc_data['age'].plot(kind='hist', bins=20, density=True)\n",
    "\n",
    "print('')\n",
    "\n",
    "calc_data = get_category(calc_data, 'age', 5, ['lowest', \"low\", 'medium', 'high', 'highest'], q_cut=True)\n",
    "iv, ivd = calc_iv(calc_data, 'cat_age', 'risk')\n",
    "iv_data.loc[iv_data['vars'] == 'age', 'iv'] = iv\n",
    "calc_data = convert_dummy(calc_data, 'cat_age')\n",
    "ivd.head()"
   ],
   "metadata": {
    "collapsed": false,
    "pycharm": {
     "name": "#%%\n"
    }
   }
  },
  {
   "cell_type": "markdown",
   "source": [
    "### (4) 工龄"
   ],
   "metadata": {
    "collapsed": false,
    "pycharm": {
     "name": "#%% md\n"
    }
   }
  },
  {
   "cell_type": "code",
   "execution_count": null,
   "outputs": [],
   "source": [
    "calc_data['work'] = - (calc_data['DAYS_EMPLOYED']) // 365\n",
    "calc_data[calc_data['work'] < 0] = np.nan\n",
    "calc_data['work'].fillna(calc_data['work'].mean(), inplace=True)\n",
    "calc_data['work'].plot(kind='hist', bins=20, density=True)\n",
    "\n",
    "calc_data = get_category(calc_data, 'work', 5, [\"lowest\", \"low\", \"medium\", \"high\", \"highest\"])\n",
    "iv, ivd = calc_iv(calc_data, 'cat_work', 'risk')\n",
    "iv_data.loc[iv_data['vars'] == 'DAYS_EMPLOYED', 'iv'] = iv\n",
    "calc_data = convert_dummy(calc_data, 'cat_work')\n",
    "ivd.head()"
   ],
   "metadata": {
    "collapsed": false,
    "pycharm": {
     "name": "#%%\n"
    }
   }
  },
  {
   "cell_type": "markdown",
   "source": [
    "### (5) 家庭成员数量"
   ],
   "metadata": {
    "collapsed": false,
    "pycharm": {
     "name": "#%% md\n"
    }
   }
  },
  {
   "cell_type": "code",
   "execution_count": null,
   "outputs": [],
   "source": [
    "calc_data['family_size'] = calc_data['family_size'].astype(int)\n",
    "calc_data['family_size_group'] = calc_data['family_size']\n",
    "calc_data['family_size_group'] = calc_data['family_size_group'].astype(object)\n",
    "calc_data.loc[calc_data['family_size_group'] >= 3, 'family_size_group'] = '3+'\n",
    "iv, ivd = calc_iv(calc_data, 'family_size_group', 'risk')\n",
    "iv_data.loc[iv_data['vars'] == 'family_size', 'iv'] = iv\n",
    "calc_data = convert_dummy(calc_data, 'family_size_group')\n",
    "ivd.head()"
   ],
   "metadata": {
    "collapsed": false,
    "pycharm": {
     "name": "#%%\n"
    }
   }
  },
  {
   "cell_type": "markdown",
   "source": [
    "## 6. 枚举数据"
   ],
   "metadata": {
    "collapsed": false,
    "pycharm": {
     "name": "#%% md\n"
    }
   }
  },
  {
   "cell_type": "markdown",
   "source": [
    "### (1) 收入类型"
   ],
   "metadata": {
    "collapsed": false,
    "pycharm": {
     "name": "#%% md\n"
    }
   }
  },
  {
   "cell_type": "code",
   "execution_count": null,
   "outputs": [],
   "source": [
    "print(calc_data['income_type'].value_counts(sort=False))\n",
    "print(\"\")\n",
    "print(calc_data['income_type'].value_counts(normalize=True, sort=False))"
   ],
   "metadata": {
    "collapsed": false,
    "pycharm": {
     "name": "#%%\n"
    }
   }
  },
  {
   "cell_type": "code",
   "execution_count": null,
   "outputs": [],
   "source": [
    "calc_data.loc[calc_data['income_type'] == 'Pensioner', 'income_type'] = 'State servant'\n",
    "calc_data.loc[calc_data['income_type'] == 'Student', 'income_type'] = 'State servant'\n",
    "iv, ivd = calc_iv(calc_data, 'income_type', 'risk')\n",
    "iv_data.loc[iv_data['vars'] == 'income_type', 'iv'] = iv\n",
    "ivd.head()"
   ],
   "metadata": {
    "collapsed": false,
    "pycharm": {
     "name": "#%%\n"
    }
   }
  },
  {
   "cell_type": "code",
   "execution_count": null,
   "outputs": [],
   "source": [
    "calc_data = convert_dummy(calc_data, 'income_type')"
   ],
   "metadata": {
    "collapsed": false,
    "pycharm": {
     "name": "#%%\n"
    }
   }
  },
  {
   "cell_type": "markdown",
   "source": [
    "### (2) 职业类型"
   ],
   "metadata": {
    "collapsed": false,
    "pycharm": {
     "name": "#%% md\n"
    }
   }
  },
  {
   "cell_type": "code",
   "execution_count": null,
   "outputs": [],
   "source": [
    "print(calc_data['occupation'].value_counts(sort=False))"
   ],
   "metadata": {
    "collapsed": false,
    "pycharm": {
     "name": "#%%\n"
    }
   }
  },
  {
   "cell_type": "code",
   "execution_count": null,
   "outputs": [],
   "source": [
    "calc_data.loc[\n",
    "    (calc_data['occupation'] == 'Security staff') |\n",
    "    (calc_data['occupation'] == 'Laborers') |\n",
    "    (calc_data['occupation'] == 'Drivers') |\n",
    "    (calc_data['occupation'] == 'Cleaning staff') |\n",
    "    (calc_data['occupation'] == 'Cooking staff') |\n",
    "    (calc_data['occupation'] == 'Low-skill Laborers') |\n",
    "    (calc_data['occupation'] == 'Waiters/barmen staff'), 'occupation'] = 'low'\n",
    "\n",
    "calc_data.loc[\n",
    "    (calc_data['occupation'] == 'Sales staff') |\n",
    "    (calc_data['occupation'] == 'Accountants') |\n",
    "    (calc_data['occupation'] == 'Core staff') |\n",
    "    (calc_data['occupation'] == 'Private service staff') |\n",
    "    (calc_data['occupation'] == 'Medicine staff') |\n",
    "    (calc_data['occupation'] == 'Secretaries') |\n",
    "    (calc_data['occupation'] == 'HR staff') |\n",
    "    (calc_data['occupation'] == 'Realty agents'), 'occupation'] = 'medium'\n",
    "\n",
    "calc_data.loc[\n",
    "    (calc_data['occupation'] == 'Managers') |\n",
    "    (calc_data['occupation'] == 'High skill tech staff') |\n",
    "    (calc_data['occupation'] == 'IT staff'), 'occupation'] = 'high'"
   ],
   "metadata": {
    "collapsed": false,
    "pycharm": {
     "name": "#%%\n"
    }
   }
  },
  {
   "cell_type": "code",
   "execution_count": null,
   "outputs": [],
   "source": [
    "iv, ivd = calc_iv(calc_data, 'occupation', 'risk')\n",
    "iv_data.loc[iv_data['vars'] == 'occupation', 'iv'] = iv\n",
    "ivd.head()"
   ],
   "metadata": {
    "collapsed": false,
    "pycharm": {
     "name": "#%%\n"
    }
   }
  },
  {
   "cell_type": "code",
   "execution_count": null,
   "outputs": [],
   "source": [
    "calc_data = convert_dummy(calc_data, 'occupation')"
   ],
   "metadata": {
    "collapsed": false,
    "pycharm": {
     "name": "#%%\n"
    }
   }
  },
  {
   "cell_type": "markdown",
   "source": [
    "### (3) 住房类型"
   ],
   "metadata": {
    "collapsed": false,
    "pycharm": {
     "name": "#%% md\n"
    }
   }
  },
  {
   "cell_type": "code",
   "execution_count": null,
   "outputs": [],
   "source": [
    "print(calc_data['housing'].value_counts(sort=False))"
   ],
   "metadata": {
    "collapsed": false,
    "pycharm": {
     "name": "#%%\n"
    }
   }
  },
  {
   "cell_type": "code",
   "execution_count": null,
   "outputs": [],
   "source": [
    "iv, ivd = calc_iv(calc_data, 'housing', 'risk')\n",
    "iv_data.loc[iv_data['vars'] == 'housing', 'iv'] = iv\n",
    "ivd.head()"
   ],
   "metadata": {
    "collapsed": false,
    "pycharm": {
     "name": "#%%\n"
    }
   }
  },
  {
   "cell_type": "code",
   "execution_count": null,
   "outputs": [],
   "source": [
    "calc_data = convert_dummy(calc_data, 'housing')"
   ],
   "metadata": {
    "collapsed": false,
    "pycharm": {
     "name": "#%%\n"
    }
   }
  },
  {
   "cell_type": "markdown",
   "source": [
    "### (4) 教育水平"
   ],
   "metadata": {
    "collapsed": false,
    "pycharm": {
     "name": "#%% md\n"
    }
   }
  },
  {
   "cell_type": "code",
   "execution_count": null,
   "outputs": [],
   "source": [
    "print(calc_data['edu'].value_counts(sort=False))"
   ],
   "metadata": {
    "collapsed": false,
    "pycharm": {
     "name": "#%%\n"
    }
   }
  },
  {
   "cell_type": "code",
   "execution_count": null,
   "outputs": [],
   "source": [
    "calc_data.loc[calc_data['edu'] == 'Academic degree', 'edu'] = 'Higher education'\n",
    "iv, ivd = calc_iv(calc_data, 'edu', 'risk')\n",
    "iv_data.loc[iv_data['vars'] == 'edu', 'iv'] = iv\n",
    "ivd.head()"
   ],
   "metadata": {
    "collapsed": false,
    "pycharm": {
     "name": "#%%\n"
    }
   }
  },
  {
   "cell_type": "code",
   "execution_count": null,
   "outputs": [],
   "source": [
    "calc_data = convert_dummy(calc_data, 'edu')"
   ],
   "metadata": {
    "collapsed": false,
    "pycharm": {
     "name": "#%%\n"
    }
   }
  },
  {
   "cell_type": "markdown",
   "source": [
    "### (5) 婚姻状况"
   ],
   "metadata": {
    "collapsed": false,
    "pycharm": {
     "name": "#%% md\n"
    }
   }
  },
  {
   "cell_type": "code",
   "execution_count": null,
   "outputs": [],
   "source": [
    "print(calc_data['family'].value_counts(sort=False))"
   ],
   "metadata": {
    "collapsed": false,
    "pycharm": {
     "name": "#%%\n"
    }
   }
  },
  {
   "cell_type": "code",
   "execution_count": null,
   "outputs": [],
   "source": [
    "iv, ivd = calc_iv(calc_data, 'family', 'risk')\n",
    "iv_data.loc[iv_data['vars'] == 'family', 'iv'] = iv\n",
    "ivd.head()"
   ],
   "metadata": {
    "collapsed": false,
    "pycharm": {
     "name": "#%%\n"
    }
   }
  },
  {
   "cell_type": "code",
   "execution_count": null,
   "outputs": [],
   "source": [
    "calc_data = convert_dummy(calc_data, 'family')"
   ],
   "metadata": {
    "collapsed": false,
    "pycharm": {
     "name": "#%%\n"
    }
   }
  },
  {
   "cell_type": "markdown",
   "source": [
    "## 7. IV 变量值"
   ],
   "metadata": {
    "collapsed": false,
    "pycharm": {
     "name": "#%% md\n"
    }
   }
  },
  {
   "cell_type": "code",
   "execution_count": null,
   "outputs": [],
   "source": [
    "iv_data = iv_data.sort_values(by='iv', ascending=False)\n",
    "iv_data.loc[iv_data['vars'] == 'DAYS_BIRTH', 'vars'] = 'age_group'\n",
    "iv_data.loc[iv_data['vars'] == 'DAYS_EMPLOYED', 'vars'] = 'work_age_group'\n",
    "iv_data"
   ],
   "metadata": {
    "collapsed": false,
    "pycharm": {
     "name": "#%%\n"
    }
   }
  },
  {
   "cell_type": "markdown",
   "source": [
    "## 8. 创建训练与测试数据集"
   ],
   "metadata": {
    "collapsed": false,
    "pycharm": {
     "name": "#%% md\n"
    }
   }
  },
  {
   "cell_type": "code",
   "execution_count": null,
   "outputs": [],
   "source": [
    "calc_data.columns"
   ],
   "metadata": {
    "collapsed": false,
    "pycharm": {
     "name": "#%%\n"
    }
   }
  },
  {
   "cell_type": "code",
   "execution_count": null,
   "outputs": [],
   "source": [
    "Y = calc_data['risk']\n",
    "X = calc_data[[\n",
    "    'gender', 'realty', 'wk_phone', 'children_1', 'children_2+',\n",
    "    'cat_age_low', 'cat_age_medium', 'cat_age_high', 'cat_age_highest',\n",
    "    'cat_work_low', 'cat_work_medium', 'cat_work_high', 'cat_work_highest',\n",
    "    'occupation_medium', 'occupation_high',\n",
    "    'family_size_group_1', 'family_size_group_3+',\n",
    "    'housing_Co-op apartment', 'housing_Rented apartment', 'housing_Municipal apartment', 'housing_Office apartment',\n",
    "    'housing_With parents',\n",
    "    'edu_Higher education', 'edu_Incomplete higher', 'edu_Lower secondary',\n",
    "    'family_Separated', 'family_Single / not married', 'family_Civil marriage', 'family_Widow'\n",
    "]]"
   ],
   "metadata": {
    "collapsed": false,
    "pycharm": {
     "name": "#%%\n"
    }
   }
  },
  {
   "cell_type": "code",
   "execution_count": null,
   "outputs": [],
   "source": [
    "Y = Y.astype(int)\n",
    "X_b, Y_b = SMOTE().fit_resample(X, Y)\n",
    "X_b = pd.DataFrame(X_b, columns=X.columns)"
   ],
   "metadata": {
    "collapsed": false,
    "pycharm": {
     "name": "#%%\n"
    }
   }
  },
  {
   "cell_type": "code",
   "execution_count": null,
   "outputs": [],
   "source": [
    "X_train, X_test, Y_train, Y_test = train_test_split(X_b, Y_b, stratify=Y_b, test_size=0.3, random_state=10000)\n",
    "X_train = np.array(X_train).astype('float32')\n",
    "X_test = np.array(X_test).astype('float32')\n",
    "Y_train = np.array(Y_train).astype('int')\n",
    "Y_test = np.array(Y_test).astype('int')"
   ],
   "metadata": {
    "collapsed": false,
    "pycharm": {
     "name": "#%%\n"
    }
   }
  },
  {
   "cell_type": "code",
   "execution_count": null,
   "outputs": [],
   "source": [
    "print(f'Input Columns: {X_train.shape[1]}')\n",
    "print('Output Columns: 1')\n",
    "print(f'Trains: {X_train.shape[0]}')\n",
    "print(f'Tests: {X_test.shape[0]}')"
   ],
   "metadata": {
    "collapsed": false,
    "pycharm": {
     "name": "#%%\n"
    }
   }
  },
  {
   "cell_type": "markdown",
   "source": [
    "## 8. 随机森林模型"
   ],
   "metadata": {
    "collapsed": false,
    "pycharm": {
     "name": "#%% md\n"
    }
   }
  },
  {
   "cell_type": "code",
   "execution_count": null,
   "outputs": [],
   "source": [
    "from sklearn.ensemble import RandomForestClassifier"
   ],
   "metadata": {
    "collapsed": false,
    "pycharm": {
     "name": "#%%\n"
    }
   }
  },
  {
   "cell_type": "code",
   "execution_count": null,
   "outputs": [],
   "source": [
    "rf_model = RandomForestClassifier(n_estimators=300, max_depth=20, min_samples_leaf=16)"
   ],
   "metadata": {
    "collapsed": false,
    "pycharm": {
     "name": "#%%\n"
    }
   }
  },
  {
   "cell_type": "code",
   "execution_count": null,
   "outputs": [],
   "source": [
    "rf_model.fit(X_train, Y_train)"
   ],
   "metadata": {
    "collapsed": false,
    "pycharm": {
     "name": "#%%\n"
    }
   }
  },
  {
   "cell_type": "code",
   "execution_count": null,
   "outputs": [],
   "source": [
    "rf_predict_result = rf_model.predict(X_test)"
   ],
   "metadata": {
    "collapsed": false,
    "pycharm": {
     "name": "#%%\n"
    }
   }
  },
  {
   "cell_type": "code",
   "execution_count": null,
   "outputs": [],
   "source": [
    "print('Accuracy Score is {:.5}'.format(accuracy_score(Y_test, rf_predict_result)))\n",
    "print(pd.DataFrame(confusion_matrix(Y_test, rf_predict_result)))\n",
    "plot_confusion_matrix(confusion_matrix(Y_test, rf_predict_result), ['0', '1'], \"Random Forest\")"
   ],
   "metadata": {
    "collapsed": false,
    "pycharm": {
     "name": "#%%\n"
    }
   }
  },
  {
   "cell_type": "markdown",
   "source": [
    "## 9. 训练 BP 网络"
   ],
   "metadata": {
    "collapsed": false,
    "pycharm": {
     "name": "#%% md\n"
    }
   }
  },
  {
   "cell_type": "code",
   "execution_count": null,
   "outputs": [],
   "source": [
    "from tensorflow.python.keras.models import Sequential\n",
    "from tensorflow.python.keras.layers import Dense"
   ],
   "metadata": {
    "collapsed": false,
    "pycharm": {
     "name": "#%%\n"
    }
   }
  },
  {
   "cell_type": "markdown",
   "source": [
    "关于隐藏层节点数\n",
    "\n",
    "设 `l` 为节点数，`n` 为输入层节点数，`m` 为输出层节点数，`a` 为 0-10 的常数，有：\n",
    "\n",
    "$$\n",
    "l < n-1\n",
    "$$\n",
    "$$\n",
    "l < \\sqrt{(m+n)} + a\n",
    "$$\n",
    "$$\n",
    "l < log_2n\n",
    "$$"
   ],
   "metadata": {
    "collapsed": false,
    "pycharm": {
     "name": "#%% md\n"
    }
   }
  },
  {
   "cell_type": "code",
   "execution_count": null,
   "outputs": [],
   "source": [
    "bp_input_nodes = 29\n",
    "bp_output_nodes = 1\n",
    "bp_a = 5\n",
    "\n",
    "bp_hide_layer_lim1 = bp_input_nodes - 1\n",
    "bp_hide_layer_lim2 = np.sqrt(bp_input_nodes + bp_output_nodes) + bp_a\n",
    "bp_hide_layer_lim3 = np.log2(bp_input_nodes)\n",
    "\n",
    "print(f'l < {bp_hide_layer_lim1}')\n",
    "print(f'l < {bp_hide_layer_lim2}')\n",
    "print(f'l < {bp_hide_layer_lim3}')"
   ],
   "metadata": {
    "collapsed": false,
    "pycharm": {
     "name": "#%%\n"
    }
   }
  },
  {
   "cell_type": "code",
   "execution_count": null,
   "outputs": [],
   "source": [
    "bp_model = Sequential()\n",
    "\n",
    "bp_model.add(Dense(units=29, activation='relu', input_shape=(29,)))\n",
    "bp_model.add(Dense(units=4, activation='softmax'))\n",
    "bp_model.add(Dense(units=1))\n",
    "\n",
    "bp_model.compile(optimizer='adam', loss='mse', metrics=['accuracy'])\n",
    "bp_model.summary()"
   ],
   "metadata": {
    "collapsed": false,
    "pycharm": {
     "name": "#%%\n"
    }
   }
  },
  {
   "cell_type": "code",
   "execution_count": null,
   "outputs": [],
   "source": [
    "bp_history = bp_model.fit(X_train, Y_train, epochs=500, batch_size=128, validation_split=0.3)"
   ],
   "metadata": {
    "collapsed": false,
    "pycharm": {
     "name": "#%%\n"
    }
   }
  },
  {
   "cell_type": "code",
   "execution_count": null,
   "outputs": [],
   "source": [
    "plot_train_history(bp_history, 'BP')"
   ],
   "metadata": {
    "collapsed": false,
    "pycharm": {
     "name": "#%%\n"
    }
   }
  },
  {
   "cell_type": "code",
   "execution_count": null,
   "outputs": [],
   "source": [
    "bp_model.save('./model')"
   ],
   "metadata": {
    "collapsed": false,
    "pycharm": {
     "name": "#%%\n"
    }
   }
  },
  {
   "cell_type": "code",
   "execution_count": null,
   "outputs": [],
   "source": [
    "bp_predict_result = bp_model.predict(X_test)\n",
    "bp_predict_result = pd.DataFrame(bp_predict_result)\n",
    "\n",
    "bp_predict_result[bp_predict_result > 1] = 1\n",
    "bp_predict_result[bp_predict_result < 0] = 0\n",
    "\n",
    "bp_predict_result = bp_predict_result.round()"
   ],
   "metadata": {
    "collapsed": false,
    "pycharm": {
     "name": "#%%\n"
    }
   }
  },
  {
   "cell_type": "code",
   "execution_count": null,
   "outputs": [],
   "source": [
    "print('Accuracy Score is {:.5}'.format(accuracy_score(Y_test, bp_predict_result)))\n",
    "print(pd.DataFrame(confusion_matrix(Y_test, bp_predict_result)))\n",
    "plot_confusion_matrix(confusion_matrix(Y_test, bp_predict_result), ['0', '1'], \"BP\")"
   ],
   "metadata": {
    "collapsed": false,
    "pycharm": {
     "name": "#%%\n"
    }
   }
  }
 ],
 "metadata": {
  "kernelspec": {
   "display_name": "Python 3.9.12 ('tf28')",
   "language": "python",
   "name": "python3"
  },
  "language_info": {
   "codemirror_mode": {
    "name": "ipython",
    "version": 3
   },
   "file_extension": ".py",
   "mimetype": "text/x-python",
   "name": "python",
   "nbconvert_exporter": "python",
   "pygments_lexer": "ipython3",
   "version": "3.9.12"
  },
  "vscode": {
   "interpreter": {
    "hash": "927c41a9b08fa20f672a2cb2b50fa5b8ff53de522dfe225bbb884884f64bcbf7"
   }
  }
 },
 "nbformat": 4,
 "nbformat_minor": 1
}