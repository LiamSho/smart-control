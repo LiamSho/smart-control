{
 "cells": [
  {
   "cell_type": "markdown",
   "source": [
    "# 信用卡申请通过率预测"
   ],
   "metadata": {
    "collapsed": false,
    "pycharm": {
     "name": "#%% md\n"
    }
   }
  },
  {
   "cell_type": "markdown",
   "source": [
    "# 1. 导入依赖包"
   ],
   "metadata": {
    "collapsed": false,
    "pycharm": {
     "name": "#%% md\n"
    }
   }
  },
  {
   "cell_type": "code",
   "execution_count": 1,
   "outputs": [],
   "source": [
    "import numpy as np\n",
    "import pandas as pd"
   ],
   "metadata": {
    "collapsed": false,
    "pycharm": {
     "name": "#%%\n"
    }
   }
  },
  {
   "cell_type": "markdown",
   "source": [
    "# 2. 数据集初始化"
   ],
   "metadata": {
    "collapsed": false,
    "pycharm": {
     "name": "#%% md\n"
    }
   }
  },
  {
   "cell_type": "code",
   "execution_count": 2,
   "outputs": [],
   "source": [
    "# 导入数据集\n",
    "\n",
    "data = pd.read_csv('./data/application_record.csv', encoding='utf-8')\n",
    "record = pd.read_csv('./data/credit_record.csv', encoding='utf-8')"
   ],
   "metadata": {
    "collapsed": false,
    "pycharm": {
     "name": "#%%\n"
    }
   }
  },
  {
   "cell_type": "code",
   "execution_count": 3,
   "outputs": [],
   "source": [
    "# 计算客户开户月份，并合并到主数据集\n",
    "\n",
    "open_month = pd.DataFrame(record.groupby(['ID'])['MONTHS_BALANCE'].agg(min))\n",
    "open_month = open_month.rename(columns={'MONTHS_BALANCE':'open_month'})\n",
    "calc_data = pd.merge(data, open_month, how='left', on='ID')"
   ],
   "metadata": {
    "collapsed": false,
    "pycharm": {
     "name": "#%%\n"
    }
   }
  },
  {
   "cell_type": "code",
   "execution_count": 4,
   "outputs": [],
   "source": [
    "# 设定逾期超过 60 日的为风险客户\n",
    "\n",
    "# 标记 STATUS 为 2、3、4、5 的为风险客户\n",
    "record['is_risky'] = None\n",
    "record.loc[record['STATUS'] == '2', 'is_risky'] = 'Y'\n",
    "record.loc[record['STATUS'] == '3', 'is_risky'] = 'Y'\n",
    "record.loc[record['STATUS'] == '4', 'is_risky'] = 'Y'\n",
    "record.loc[record['STATUS'] == '5', 'is_risky'] = 'Y'\n",
    "\n",
    "# 按照 ID 进行数据合并\n",
    "g = record.groupby('ID').count()\n",
    "\n",
    "# 标记风险客户\n",
    "g['is_risky'][g['is_risky'] > 0] = 'Y'\n",
    "g['is_risky'][g['is_risky'] == 0] = 'N'\n",
    "g = g[['is_risky']]\n",
    "\n",
    "calc_data = pd.merge(calc_data, g, how='inner', on='ID')\n",
    "calc_data['risk'] = calc_data['is_risky']\n",
    "calc_data.loc[calc_data['risk'] == 'Y', 'risk'] = 1\n",
    "calc_data.loc[calc_data['risk'] == 'N', 'risk'] = 0"
   ],
   "metadata": {
    "collapsed": false,
    "pycharm": {
     "name": "#%%\n"
    }
   }
  },
  {
   "cell_type": "code",
   "execution_count": null,
   "outputs": [],
   "source": [
    "# 查看风险客户数量\n",
    "\n",
    "print(g['is_risky'].value_counts(sort=False))\n",
    "g['is_risky'].value_counts(normalize=True, sort=False)"
   ],
   "metadata": {
    "collapsed": false,
    "pycharm": {
     "name": "#%%\n",
     "is_executing": true
    }
   }
  },
  {
   "cell_type": "code",
   "execution_count": 6,
   "outputs": [],
   "source": [
    "def convert_dummy(df, feature, rank=0):\n",
    "    pos = pd.get_dummies(df[feature], prefix=feature)\n",
    "    mode = df[feature].value_counts().index[rank]\n",
    "    biggest = feature + '_' + str(mode)\n",
    "    pos.drop([biggest],axis=1,inplace=True)\n",
    "    df.drop([feature],axis=1,inplace=True)\n",
    "    df=df.join(pos)\n",
    "    return df"
   ],
   "metadata": {
    "collapsed": false,
    "pycharm": {
     "name": "#%%\n"
    }
   }
  },
  {
   "cell_type": "code",
   "execution_count": 7,
   "outputs": [],
   "source": [
    "# 为了方便处理数据，重命名原本的数据列\n",
    "\n",
    "calc_data.rename(columns={\n",
    "        'CODE_GENDER':'gender',\n",
    "        'FLAG_OWN_CAR':'car',\n",
    "        'FLAG_OWN_REALTY':'realty',\n",
    "        'CNT_CHILDREN':'children',\n",
    "        'AMT_INCOME_TOTAL':'income',\n",
    "        'NAME_INCOME_TYPE':'income_type',\n",
    "        'NAME_EDUCATION_TYPE':'edu',\n",
    "        'NAME_FAMILY_STATUS':'family',\n",
    "        'NAME_HOUSING_TYPE':'housing',\n",
    "        'FLAG_MOBIL': 'mobile',\n",
    "        'FLAG_WORK_PHONE':'wk_phone',\n",
    "        'FLAG_PHONE':'phone',\n",
    "        'FLAG_EMAIL':'email',\n",
    "        'OCCUPATION_TYPE':'occupation',\n",
    "        'CNT_FAM_MEMBERS':'family_size'\n",
    "    }, inplace=True)"
   ],
   "metadata": {
    "collapsed": false,
    "pycharm": {
     "name": "#%%\n"
    }
   }
  },
  {
   "cell_type": "code",
   "execution_count": 8,
   "outputs": [],
   "source": [
    "# 移除 NULL 数据\n",
    "\n",
    "calc_data.dropna()\n",
    "calc_data = calc_data.mask(calc_data == 'NULL').dropna()"
   ],
   "metadata": {
    "collapsed": false,
    "pycharm": {
     "name": "#%%\n"
    }
   }
  },
  {
   "cell_type": "code",
   "execution_count": 9,
   "outputs": [],
   "source": [
    "iv_data = pd.DataFrame(calc_data.columns, columns=['vars'])\n",
    "iv_data['iv'] = None\n",
    "namelist = ['FLAG_MOBIL', 'open_month', 'is_risky','risk','ID']\n",
    "\n",
    "for n in namelist:\n",
    "    iv_data.drop(iv_data[iv_data['vars'] == 1].index, inplace=True)"
   ],
   "metadata": {
    "collapsed": false,
    "pycharm": {
     "name": "#%%\n"
    }
   }
  },
  {
   "cell_type": "markdown",
   "source": [
    "# 3. 二值数据处理"
   ],
   "metadata": {
    "collapsed": false,
    "pycharm": {
     "name": "#%% md\n"
    }
   }
  },
  {
   "cell_type": "code",
   "execution_count": 10,
   "outputs": [],
   "source": [
    "# IV 变量计算\n",
    "\n",
    "def calc_iv(df, feature, target, pr=False):\n",
    "    lst = []\n",
    "    df[feature] = df[feature].fillna(\"NULL\")\n",
    "\n",
    "    for i in range(df[feature].nunique()):\n",
    "        val = list(df[feature].unique())[i]\n",
    "        lst.append([feature,                                                        # Variable\n",
    "                    val,                                                            # Value\n",
    "                    df[df[feature] == val].count()[feature],                        # All\n",
    "                    df[(df[feature] == val) & (df[target] == 0)].count()[feature],  # Good (think: Fraud == 0)\n",
    "                    df[(df[feature] == val) & (df[target] == 1)].count()[feature]]) # Bad (think: Fraud == 1)\n",
    "\n",
    "    iv_calc_data = pd.DataFrame(lst, columns=['Variable', 'Value', 'All', 'Good', 'Bad'])\n",
    "    iv_calc_data['Share'] = iv_calc_data['All'] / iv_calc_data['All'].sum()\n",
    "    iv_calc_data['Bad Rate'] = iv_calc_data['Bad'] / iv_calc_data['All']\n",
    "    iv_calc_data['Distribution Good'] = (iv_calc_data['All'] - iv_calc_data['Bad']) / (iv_calc_data['All'].sum() - iv_calc_data['Bad'].sum())\n",
    "    iv_calc_data['Distribution Bad'] = iv_calc_data['Bad'] / iv_calc_data['Bad'].sum()\n",
    "    iv_calc_data['WoE'] = np.log(iv_calc_data['Distribution Good'] / iv_calc_data['Distribution Bad'])\n",
    "\n",
    "    iv_calc_data = iv_calc_data.replace({'WoE': {np.inf: 0, -np.inf: 0}})\n",
    "\n",
    "    iv_calc_data['IV'] = iv_calc_data['WoE'] * (iv_calc_data['Distribution Good'] - iv_calc_data['Distribution Bad'])\n",
    "\n",
    "    iv_calc_data = iv_calc_data.sort_values(by=['Variable', 'Value'], ascending=[True, True])\n",
    "    iv_calc_data.index = range(len(iv_calc_data.index))\n",
    "\n",
    "    if pr:\n",
    "        print(iv_calc_data)\n",
    "        print('IV = ', iv_calc_data['IV'].sum())\n",
    "\n",
    "    ivv = iv_calc_data['IV'].sum()\n",
    "    print('IV =', ivv)\n",
    "    print(df[feature].value_counts())\n",
    "    return ivv, iv_calc_data"
   ],
   "metadata": {
    "collapsed": false,
    "pycharm": {
     "name": "#%%\n"
    }
   }
  },
  {
   "cell_type": "code",
   "execution_count": null,
   "outputs": [],
   "source": [
    "# 性别\n",
    "\n",
    "param = 'gender'\n",
    "\n",
    "calc_data[param] = calc_data[param].replace(['F', 'M'], [0, 1])\n",
    "iv, ivd = calc_iv(calc_data, param, 'risk')\n",
    "iv_data.loc[iv_data['vars'] == param, 'iv'] = iv\n",
    "ivd.head()"
   ],
   "metadata": {
    "collapsed": false,
    "pycharm": {
     "name": "#%%\n",
     "is_executing": true
    }
   }
  },
  {
   "cell_type": "code",
   "execution_count": null,
   "outputs": [],
   "source": [
    "# 是否拥有汽车\n",
    "\n",
    "param = 'car'\n",
    "\n",
    "calc_data[param] = calc_data[param].replace(['N', 'Y'], [0, 1])\n",
    "iv, ivd = calc_iv(calc_data, param, 'risk')\n",
    "iv_data.loc[iv_data['vars'] == param, 'iv'] = iv\n",
    "ivd.head()"
   ],
   "metadata": {
    "collapsed": false,
    "pycharm": {
     "name": "#%%\n",
     "is_executing": true
    }
   }
  },
  {
   "cell_type": "code",
   "execution_count": null,
   "outputs": [],
   "source": [
    "# 是否拥有不动产\n",
    "\n",
    "param = 'realty'\n",
    "\n",
    "calc_data[param] = calc_data[param].replace(['N', 'Y'], [0, 1])\n",
    "iv, ivd = calc_iv(calc_data, param, 'risk')\n",
    "iv_data.loc[iv_data['vars'] == param, 'iv'] = iv\n",
    "ivd.head()"
   ],
   "metadata": {
    "collapsed": false,
    "pycharm": {
     "name": "#%%\n",
     "is_executing": true
    }
   }
  },
  {
   "cell_type": "code",
   "execution_count": null,
   "outputs": [],
   "source": [
    "# 是否拥有电话\n",
    "\n",
    "param = 'phone'\n",
    "\n",
    "calc_data[param] = calc_data[param].astype(str)\n",
    "calc_data.drop(calc_data[calc_data[param] == 'nan'].index, inplace=True)\n",
    "iv, ivd = calc_iv(calc_data, param, 'risk')\n",
    "iv_data.loc[iv_data['vars'] == param, 'iv'] = iv\n",
    "ivd.head()"
   ],
   "metadata": {
    "collapsed": false,
    "pycharm": {
     "name": "#%%\n",
     "is_executing": true
    }
   }
  },
  {
   "cell_type": "code",
   "execution_count": null,
   "outputs": [],
   "source": [
    "# 是否拥有邮箱\n",
    "\n",
    "param = 'email'\n",
    "\n",
    "calc_data[param] = calc_data[param].astype(str)\n",
    "calc_data.drop(calc_data[calc_data[param] == 'nan'].index, inplace=True)\n",
    "iv, ivd = calc_iv(calc_data, param, 'risk')\n",
    "iv_data.loc[iv_data['vars'] == param, 'iv'] = iv\n",
    "ivd.head()"
   ],
   "metadata": {
    "collapsed": false,
    "pycharm": {
     "name": "#%%\n",
     "is_executing": true
    }
   }
  },
  {
   "cell_type": "code",
   "execution_count": null,
   "outputs": [],
   "source": [
    "# 是否拥有工作电话\n",
    "\n",
    "param = 'wk_phone'\n",
    "\n",
    "calc_data[param] = calc_data[param].astype(str)\n",
    "calc_data.drop(calc_data[calc_data[param] == 'nan'].index, inplace=True)\n",
    "iv, ivd = calc_iv(calc_data, param, 'risk')\n",
    "iv_data.loc[iv_data['vars'] == param, 'iv'] = iv\n",
    "ivd.head()"
   ],
   "metadata": {
    "collapsed": false,
    "pycharm": {
     "name": "#%%\n",
     "is_executing": true
    }
   }
  },
  {
   "cell_type": "markdown",
   "source": [
    "# 4. 非二值数据处理"
   ],
   "metadata": {
    "collapsed": false,
    "pycharm": {
     "name": "#%% md\n"
    }
   }
  },
  {
   "cell_type": "code",
   "execution_count": 17,
   "outputs": [],
   "source": [
    "def get_category(df, col, bins_num, labels, q_cut = False):\n",
    "    if q_cut:\n",
    "        ldf = pd.qcut(df[col], q = bins_num, labels = labels)\n",
    "    else:\n",
    "        ldf = pd.cut(df[col], bins = bins_num, labels = labels)\n",
    "\n",
    "    ldf = pd.DataFrame(ldf)\n",
    "    name = 'cat' + '_' + col\n",
    "    ldf[name] = ldf[col]\n",
    "    df = df.join(ldf[name])\n",
    "    df[name] = df[name].astype(object)\n",
    "    return df"
   ],
   "metadata": {
    "collapsed": false,
    "pycharm": {
     "name": "#%%\n"
    }
   }
  },
  {
   "cell_type": "code",
   "execution_count": 18,
   "outputs": [],
   "source": [
    "# 拥有孩子数量\n",
    "\n",
    "calc_data.loc[calc_data['children'] >= 2, 'children'] = '2+'"
   ],
   "metadata": {
    "collapsed": false,
    "pycharm": {
     "name": "#%%\n"
    }
   }
  },
  {
   "cell_type": "code",
   "execution_count": null,
   "outputs": [],
   "source": [
    "iv, ivd = calc_iv(calc_data, 'children', 'risk')\n",
    "iv_data.loc[iv_data['vars'] == 'children', 'iv'] = iv\n",
    "ivd.head()"
   ],
   "metadata": {
    "collapsed": false,
    "pycharm": {
     "name": "#%%\n",
     "is_executing": true
    }
   }
  },
  {
   "cell_type": "code",
   "execution_count": 20,
   "outputs": [],
   "source": [
    "calc_data = convert_dummy(calc_data, 'children')"
   ],
   "metadata": {
    "collapsed": false,
    "pycharm": {
     "name": "#%%\n"
    }
   }
  },
  {
   "cell_type": "code",
   "execution_count": null,
   "outputs": [],
   "source": [
    "# 年收入\n",
    "\n",
    "ann_income = calc_data['income'].astype(object)\n",
    "ann_income = ann_income / 10000\n",
    "print(ann_income.value_counts(bins=10, sort=False))\n",
    "ann_income.plot(kind='hist', bins=50, density=True)"
   ],
   "metadata": {
    "collapsed": false,
    "pycharm": {
     "name": "#%%\n",
     "is_executing": true
    }
   }
  },
  {
   "cell_type": "code",
   "execution_count": null,
   "outputs": [],
   "source": [
    "calc_data = get_category(calc_data, 'income', 3, ['low', 'medium', 'high'], q_cut = True)\n",
    "iv, ivd = calc_iv(calc_data,'cat_income','risk')\n",
    "iv_data.loc[iv_data['vars']=='income', 'iv'] = iv\n",
    "ivd.head()"
   ],
   "metadata": {
    "collapsed": false,
    "pycharm": {
     "name": "#%%\n",
     "is_executing": true
    }
   }
  },
  {
   "cell_type": "code",
   "execution_count": 23,
   "outputs": [],
   "source": [
    "calc_data = convert_dummy(calc_data, 'cat_income')"
   ],
   "metadata": {
    "collapsed": false,
    "pycharm": {
     "name": "#%%\n"
    }
   }
  },
  {
   "cell_type": "code",
   "execution_count": null,
   "outputs": [],
   "source": [
    "# 年龄\n",
    "\n",
    "calc_data['age'] =- (calc_data['DAYS_BIRTH']) // 365\n",
    "print(calc_data['age'].value_counts(bins=10, normalize=True, sort=False))\n",
    "calc_data['age'].plot(kind='hist', bins=20, density=True)"
   ],
   "metadata": {
    "collapsed": false,
    "pycharm": {
     "name": "#%%\n",
     "is_executing": true
    }
   }
  },
  {
   "cell_type": "code",
   "execution_count": null,
   "outputs": [],
   "source": [
    "calc_data = get_category(calc_data, 'age', 5, ['lowest', \"low\", 'medium', 'high', 'highest'], q_cut = True)\n",
    "iv, ivd = calc_iv(calc_data,'cat_age', 'risk')\n",
    "iv_data.loc[iv_data['vars'] == 'age', 'iv'] = iv\n",
    "ivd.head()"
   ],
   "metadata": {
    "collapsed": false,
    "pycharm": {
     "name": "#%%\n",
     "is_executing": true
    }
   }
  },
  {
   "cell_type": "code",
   "execution_count": 26,
   "outputs": [],
   "source": [
    "calc_data = convert_dummy(calc_data, 'cat_age')"
   ],
   "metadata": {
    "collapsed": false,
    "pycharm": {
     "name": "#%%\n"
    }
   }
  },
  {
   "cell_type": "code",
   "execution_count": null,
   "outputs": [],
   "source": [
    "# 工作时间\n",
    "\n",
    "calc_data['work'] =- (calc_data['DAYS_EMPLOYED']) // 365\n",
    "calc_data[calc_data['work'] < 0] = np.nan\n",
    "calc_data['work'].fillna(calc_data['work'].mean(), inplace=True)\n",
    "calc_data['work'].plot(kind='hist', bins=20, density=True)"
   ],
   "metadata": {
    "collapsed": false,
    "pycharm": {
     "name": "#%%\n",
     "is_executing": true
    }
   }
  },
  {
   "cell_type": "code",
   "execution_count": null,
   "outputs": [],
   "source": [
    "calc_data = get_category(calc_data,'work',5, [\"lowest\",\"low\",\"medium\",\"high\",\"highest\"])\n",
    "iv, ivd=calc_iv(calc_data, 'cat_work', 'risk')\n",
    "iv_data.loc[iv_data['vars'] == 'DAYS_EMPLOYED', 'iv']=iv\n",
    "ivd.head()"
   ],
   "metadata": {
    "collapsed": false,
    "pycharm": {
     "name": "#%%\n",
     "is_executing": true
    }
   }
  },
  {
   "cell_type": "code",
   "execution_count": 29,
   "outputs": [],
   "source": [
    "calc_data = convert_dummy(calc_data, 'cat_work')"
   ],
   "metadata": {
    "collapsed": false,
    "pycharm": {
     "name": "#%%\n"
    }
   }
  },
  {
   "cell_type": "code",
   "execution_count": null,
   "outputs": [],
   "source": [
    "# 家庭成员数量\n",
    "\n",
    "calc_data['family_size'] = calc_data['family_size'].astype(int)\n",
    "calc_data['family_size_group'] = calc_data['family_size']\n",
    "calc_data['family_size_group'] = calc_data['family_size_group'].astype(object)\n",
    "calc_data.loc[calc_data['family_size_group'] >= 3, 'family_size_group'] = '3+'\n",
    "iv, ivd = calc_iv(calc_data, 'family_size_group', 'risk')\n",
    "iv_data.loc[iv_data['vars'] == 'family_size', 'iv'] = iv\n",
    "ivd.head()"
   ],
   "metadata": {
    "collapsed": false,
    "pycharm": {
     "name": "#%%\n",
     "is_executing": true
    }
   }
  },
  {
   "cell_type": "code",
   "execution_count": 31,
   "outputs": [],
   "source": [
    "calc_data = convert_dummy(calc_data, 'family_size_group')"
   ],
   "metadata": {
    "collapsed": false,
    "pycharm": {
     "name": "#%%\n"
    }
   }
  },
  {
   "cell_type": "markdown",
   "source": [
    "# 枚举数据"
   ],
   "metadata": {
    "collapsed": false,
    "pycharm": {
     "name": "#%% md\n"
    }
   }
  },
  {
   "cell_type": "code",
   "execution_count": null,
   "outputs": [],
   "source": [
    "# 收入类型\n",
    "\n",
    "print(calc_data['income_type'].value_counts(sort=False))\n",
    "print(\"\")\n",
    "print(calc_data['income_type'].value_counts(normalize=True, sort=False))"
   ],
   "metadata": {
    "collapsed": false,
    "pycharm": {
     "name": "#%%\n",
     "is_executing": true
    }
   }
  },
  {
   "cell_type": "code",
   "execution_count": null,
   "outputs": [],
   "source": [
    "calc_data.loc[calc_data['income_type'] == 'Pensioner', 'income_type'] = 'State servant'\n",
    "calc_data.loc[calc_data['income_type'] == 'Student', 'income_type'] = 'State servant'\n",
    "iv, ivd = calc_iv(calc_data, 'income_type', 'risk')\n",
    "iv_data.loc[iv_data['vars'] == 'income_type', 'iv'] = iv\n",
    "ivd.head()"
   ],
   "metadata": {
    "collapsed": false,
    "pycharm": {
     "name": "#%%\n",
     "is_executing": true
    }
   }
  },
  {
   "cell_type": "code",
   "execution_count": 34,
   "outputs": [],
   "source": [
    "calc_data = convert_dummy(calc_data, 'income_type')"
   ],
   "metadata": {
    "collapsed": false,
    "pycharm": {
     "name": "#%%\n"
    }
   }
  },
  {
   "cell_type": "code",
   "execution_count": null,
   "outputs": [],
   "source": [
    "# 职业类型\n",
    "\n",
    "print(calc_data['occupation'].value_counts(sort=False))"
   ],
   "metadata": {
    "collapsed": false,
    "pycharm": {
     "name": "#%%\n",
     "is_executing": true
    }
   }
  },
  {
   "cell_type": "code",
   "execution_count": 36,
   "outputs": [],
   "source": [
    "calc_data.loc[\n",
    "    (calc_data['occupation'] == 'Security staff') |\n",
    "    (calc_data['occupation'] == 'Laborers') |\n",
    "    (calc_data['occupation'] == 'Drivers') |\n",
    "    (calc_data['occupation'] == 'Cleaning staff') |\n",
    "    (calc_data['occupation'] == 'Cooking staff') |\n",
    "    (calc_data['occupation'] == 'Low-skill Laborers') |\n",
    "    (calc_data['occupation'] == 'Waiters/barmen staff'), 'occupation'] = 'low'\n",
    "\n",
    "calc_data.loc[\n",
    "    (calc_data['occupation'] == 'Sales staff') |\n",
    "    (calc_data['occupation'] == 'Accountants') |\n",
    "    (calc_data['occupation'] == 'Core staff') |\n",
    "    (calc_data['occupation'] == 'Private service staff') |\n",
    "    (calc_data['occupation'] == 'Medicine staff') |\n",
    "    (calc_data['occupation'] == 'Secretaries') |\n",
    "    (calc_data['occupation'] == 'HR staff') |\n",
    "    (calc_data['occupation'] == 'Realty agents'), 'occupation'] = 'medium'\n",
    "\n",
    "calc_data.loc[\n",
    "    (calc_data['occupation'] == 'Managers') |\n",
    "    (calc_data['occupation'] == 'High skill tech staff') |\n",
    "    (calc_data['occupation'] == 'IT staff'), 'occupation'] = 'high'"
   ],
   "metadata": {
    "collapsed": false,
    "pycharm": {
     "name": "#%%\n"
    }
   }
  },
  {
   "cell_type": "code",
   "execution_count": null,
   "outputs": [],
   "source": [
    "iv, ivd = calc_iv(calc_data, 'occupation', 'risk')\n",
    "iv_data.loc[iv_data['vars'] == 'occupation', 'iv'] = iv\n",
    "ivd.head()"
   ],
   "metadata": {
    "collapsed": false,
    "pycharm": {
     "name": "#%%\n",
     "is_executing": true
    }
   }
  },
  {
   "cell_type": "code",
   "execution_count": 38,
   "outputs": [],
   "source": [
    "calc_data = convert_dummy(calc_data, 'occupation')"
   ],
   "metadata": {
    "collapsed": false,
    "pycharm": {
     "name": "#%%\n"
    }
   }
  },
  {
   "cell_type": "code",
   "execution_count": null,
   "outputs": [],
   "source": [
    "# 住房类型\n",
    "\n",
    "iv, ivd = calc_iv(calc_data, 'housing', 'risk')\n",
    "iv_data.loc[iv_data['vars'] == 'housing', 'iv'] = iv\n",
    "ivd.head()"
   ],
   "metadata": {
    "collapsed": false,
    "pycharm": {
     "name": "#%%\n",
     "is_executing": true
    }
   }
  },
  {
   "cell_type": "code",
   "execution_count": 40,
   "outputs": [],
   "source": [
    "calc_data = convert_dummy(calc_data, 'housing')"
   ],
   "metadata": {
    "collapsed": false,
    "pycharm": {
     "name": "#%%\n"
    }
   }
  },
  {
   "cell_type": "code",
   "execution_count": null,
   "outputs": [],
   "source": [
    "# 教育水平\n",
    "\n",
    "print(calc_data['edu'].value_counts(sort=False))"
   ],
   "metadata": {
    "collapsed": false,
    "pycharm": {
     "name": "#%%\n",
     "is_executing": true
    }
   }
  },
  {
   "cell_type": "code",
   "execution_count": null,
   "outputs": [],
   "source": [
    "calc_data.loc[calc_data['edu'] == 'Academic degree', 'edu'] = 'Higher education'\n",
    "iv, ivd = calc_iv(calc_data, 'edu', 'risk')\n",
    "iv_data.loc[iv_data['vars'] == 'edu', 'iv'] = iv\n",
    "ivd.head()"
   ],
   "metadata": {
    "collapsed": false,
    "pycharm": {
     "name": "#%%\n",
     "is_executing": true
    }
   }
  },
  {
   "cell_type": "code",
   "execution_count": 43,
   "outputs": [],
   "source": [
    "calc_data = convert_dummy(calc_data, 'edu')"
   ],
   "metadata": {
    "collapsed": false,
    "pycharm": {
     "name": "#%%\n"
    }
   }
  },
  {
   "cell_type": "code",
   "execution_count": null,
   "outputs": [],
   "source": [
    "# 婚姻状况\n",
    "\n",
    "iv, ivd = calc_iv(calc_data, 'family', 'risk')\n",
    "iv_data.loc[iv_data['vars'] == 'family', 'iv'] = iv\n",
    "ivd.head()"
   ],
   "metadata": {
    "collapsed": false,
    "pycharm": {
     "name": "#%%\n",
     "is_executing": true
    }
   }
  },
  {
   "cell_type": "code",
   "execution_count": 45,
   "outputs": [],
   "source": [
    "calc_data = convert_dummy(calc_data, 'family')"
   ],
   "metadata": {
    "collapsed": false,
    "pycharm": {
     "name": "#%%\n"
    }
   }
  },
  {
   "cell_type": "markdown",
   "source": [
    "# IV & WOE"
   ],
   "metadata": {
    "collapsed": false,
    "pycharm": {
     "name": "#%% md\n"
    }
   }
  },
  {
   "cell_type": "code",
   "execution_count": null,
   "outputs": [],
   "source": [
    "iv_data = iv_data.sort_values(by='iv', ascending=False)\n",
    "iv_data.loc[iv_data['vars']=='DAYS_BIRTH', 'vars'] = 'age_group'\n",
    "iv_data.loc[iv_data['vars']=='DAYS_EMPLOYED', 'vars'] = 'work_age_group'\n",
    "iv_data"
   ],
   "metadata": {
    "collapsed": false,
    "pycharm": {
     "name": "#%%\n",
     "is_executing": true
    }
   }
  },
  {
   "cell_type": "markdown",
   "source": [
    "# 创建训练与测试数据集"
   ],
   "metadata": {
    "collapsed": false,
    "pycharm": {
     "name": "#%% md\n"
    }
   }
  },
  {
   "cell_type": "code",
   "execution_count": null,
   "outputs": [],
   "source": [
    "calc_data.columns"
   ],
   "metadata": {
    "collapsed": false,
    "pycharm": {
     "name": "#%%\n",
     "is_executing": true
    }
   }
  },
  {
   "cell_type": "code",
   "execution_count": 48,
   "outputs": [],
   "source": [
    "# 构建训练数据集\n",
    "\n",
    "Y = calc_data['risk']\n",
    "X = calc_data[[\n",
    "    'gender', 'realty', 'wk_phone', 'children_1', 'children_2+',\n",
    "    'cat_age_low', 'cat_age_medium', 'cat_age_high', 'cat_age_highest',\n",
    "    'cat_work_low', 'cat_work_medium', 'cat_work_high', 'cat_work_highest',\n",
    "    'occupation_medium', 'occupation_high',\n",
    "    'family_size_group_1', 'family_size_group_3+',\n",
    "    'housing_Co-op apartment', 'housing_Rented apartment', 'housing_Municipal apartment', 'housing_Office apartment', 'housing_With parents',\n",
    "    'edu_Higher education', 'edu_Incomplete higher', 'edu_Lower secondary',\n",
    "    'family_Separated', 'family_Single / not married', 'family_Civil marriage', 'family_Widow'\n",
    "]]"
   ],
   "metadata": {
    "collapsed": false,
    "pycharm": {
     "name": "#%%\n"
    }
   }
  },
  {
   "cell_type": "code",
   "execution_count": 49,
   "outputs": [],
   "source": [
    "from imblearn.over_sampling import SMOTE\n",
    "\n",
    "Y = Y.astype(int)\n",
    "X_b, Y_b = SMOTE().fit_resample(X, Y)\n",
    "X_b = pd.DataFrame(X_b, columns=X.columns)"
   ],
   "metadata": {
    "collapsed": false,
    "pycharm": {
     "name": "#%%\n"
    }
   }
  },
  {
   "cell_type": "code",
   "execution_count": 57,
   "outputs": [],
   "source": [
    "from sklearn.model_selection import train_test_split\n",
    "\n",
    "X_train, X_test, Y_train, Y_test = train_test_split(X_b, Y_b, stratify=Y_b, test_size=0.3, random_state = 10000)\n",
    "X_train = np.array(X_train).astype('float32')\n",
    "X_test = np.array(X_test).astype('float32')\n",
    "Y_train = np.array(Y_train).astype('float32')\n",
    "Y_test = np.array(Y_test).astype('float32')"
   ],
   "metadata": {
    "collapsed": false,
    "pycharm": {
     "name": "#%%\n"
    }
   }
  },
  {
   "cell_type": "code",
   "execution_count": null,
   "outputs": [],
   "source": [
    "print(f'Input Columns: {X_train.shape[1]}')\n",
    "print('Output Columns: 1')\n",
    "print(f'Trains: {X_train.shape[0]}')\n",
    "print(f'Tests: {X_test.shape[0]}')"
   ],
   "metadata": {
    "collapsed": false,
    "pycharm": {
     "name": "#%%\n",
     "is_executing": true
    }
   }
  },
  {
   "cell_type": "markdown",
   "source": [
    "# 训练"
   ],
   "metadata": {
    "collapsed": false,
    "pycharm": {
     "name": "#%% md\n"
    }
   }
  },
  {
   "cell_type": "code",
   "execution_count": 71,
   "outputs": [],
   "source": [
    "from tensorflow.python.keras.models import Sequential\n",
    "from tensorflow.python.keras.layers import Dense\n",
    "from sklearn.metrics import accuracy_score, confusion_matrix\n",
    "\n",
    "import matplotlib.pyplot as plt\n",
    "\n",
    "import itertools"
   ],
   "metadata": {
    "collapsed": false,
    "pycharm": {
     "name": "#%%\n"
    }
   }
  },
  {
   "cell_type": "code",
   "execution_count": 72,
   "outputs": [],
   "source": [
    "def plot_confusion_matrix(cm, classes, m_type, normalize=True, c_map=plt.cm.Blues):\n",
    "    if normalize:\n",
    "        cm = cm.astype('float') / cm.sum(axis=1)[:, np.newaxis]\n",
    "\n",
    "    print(cm)\n",
    "\n",
    "    plt.imshow(cm, interpolation='nearest', cmap=c_map)\n",
    "    plt.title(f'Confusion matrix - {m_type}')\n",
    "    plt.colorbar()\n",
    "    tick_marks = np.arange(len(classes))\n",
    "    plt.xticks(tick_marks, classes)\n",
    "    plt.yticks(tick_marks, classes)\n",
    "\n",
    "    fmt = '.2f' if normalize else 'd'\n",
    "    thresh = cm.max() / 2.\n",
    "    for i, j in itertools.product(range(cm.shape[0]), range(cm.shape[1])):\n",
    "        plt.text(j, i, format(cm[i, j], fmt),\n",
    "                 horizontalalignment=\"center\",\n",
    "                 color=\"white\" if cm[i, j] > thresh else \"black\")\n",
    "\n",
    "    plt.tight_layout()\n",
    "    plt.ylabel('True label')\n",
    "    plt.xlabel('Predicted label')"
   ],
   "metadata": {
    "collapsed": false,
    "pycharm": {
     "name": "#%%\n"
    }
   }
  },
  {
   "cell_type": "code",
   "execution_count": null,
   "outputs": [],
   "source": [
    "bp_model = Sequential([\n",
    "    Dense(units=29, activation='relu', input_shape=(29,)),\n",
    "    Dense(units=10, activation='softmax'),\n",
    "    Dense(units=1)\n",
    "])\n",
    "bp_model.summary()"
   ],
   "metadata": {
    "collapsed": false,
    "pycharm": {
     "name": "#%%\n",
     "is_executing": true
    }
   }
  },
  {
   "cell_type": "code",
   "execution_count": null,
   "outputs": [],
   "source": [
    "bp_model.compile(optimizer='SGD', loss='mse')\n",
    "bp_history = bp_model.fit(X_train, Y_train, epochs=100)"
   ],
   "metadata": {
    "collapsed": false,
    "pycharm": {
     "name": "#%%\n",
     "is_executing": true
    }
   }
  },
  {
   "cell_type": "code",
   "execution_count": null,
   "outputs": [],
   "source": [
    "bp_model.save_weights('./model/bp_checkpoint/checkpoint')\n",
    "bp_model.save('./model/bp_model')"
   ],
   "metadata": {
    "collapsed": false,
    "pycharm": {
     "name": "#%%\n",
     "is_executing": true
    }
   }
  },
  {
   "cell_type": "code",
   "execution_count": null,
   "outputs": [],
   "source": [
    "Y_predict_bp = bp_model.predict(X_test)"
   ],
   "metadata": {
    "collapsed": false,
    "pycharm": {
     "name": "#%%\n",
     "is_executing": true
    }
   }
  },
  {
   "cell_type": "code",
   "execution_count": null,
   "outputs": [],
   "source": [
    "print('Accuracy Score is {:.5}'.format(accuracy_score(Y_test, Y_predict_bp)))\n",
    "print(pd.DataFrame(confusion_matrix(Y_test, Y_predict_bp)))\n",
    "\n",
    "plot_confusion_matrix(confusion_matrix(Y_test, Y_predict_bp), classes=['0', '1'], m_type='BP')"
   ],
   "metadata": {
    "collapsed": false,
    "pycharm": {
     "name": "#%%\n",
     "is_executing": true
    }
   }
  }
 ],
 "metadata": {
  "kernelspec": {
   "display_name": "Python 3",
   "language": "python",
   "name": "python3"
  },
  "language_info": {
   "codemirror_mode": {
    "name": "ipython",
    "version": 2
   },
   "file_extension": ".py",
   "mimetype": "text/x-python",
   "name": "python",
   "nbconvert_exporter": "python",
   "pygments_lexer": "ipython2",
   "version": "2.7.6"
  }
 },
 "nbformat": 4,
 "nbformat_minor": 0
}